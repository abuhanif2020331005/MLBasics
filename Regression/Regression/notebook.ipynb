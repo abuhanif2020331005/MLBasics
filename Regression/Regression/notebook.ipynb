{
 "cells": [
  {
   "cell_type": "code",
   "execution_count": 154,
   "metadata": {},
   "outputs": [],
   "source": [
    "import pandas as pd\n",
    "import numpy as np\n",
    "\n",
    "import seaborn as sns\n",
    "from matplotlib import pyplot as plt\n",
    "%matplotlib inline"
   ]
  },
  {
   "cell_type": "code",
   "execution_count": 155,
   "metadata": {},
   "outputs": [
    {
     "data": {
      "text/plain": [
       "37137"
      ]
     },
     "execution_count": 155,
     "metadata": {},
     "output_type": "execute_result"
    }
   ],
   "source": [
    "df_full = pd.read_csv('train.csv')\n",
    "df_test=pd.read_csv('test.csv')\n",
    "len(df_full)"
   ]
  },
  {
   "cell_type": "code",
   "execution_count": 156,
   "metadata": {},
   "outputs": [
    {
     "data": {
      "text/html": [
       "<div>\n",
       "<style scoped>\n",
       "    .dataframe tbody tr th:only-of-type {\n",
       "        vertical-align: middle;\n",
       "    }\n",
       "\n",
       "    .dataframe tbody tr th {\n",
       "        vertical-align: top;\n",
       "    }\n",
       "\n",
       "    .dataframe thead th {\n",
       "        text-align: right;\n",
       "    }\n",
       "</style>\n",
       "<table border=\"1\" class=\"dataframe\">\n",
       "  <thead>\n",
       "    <tr style=\"text-align: right;\">\n",
       "      <th></th>\n",
       "      <th>id</th>\n",
       "      <th>MedInc</th>\n",
       "      <th>HouseAge</th>\n",
       "      <th>AveRooms</th>\n",
       "      <th>AveBedrms</th>\n",
       "      <th>Population</th>\n",
       "      <th>AveOccup</th>\n",
       "      <th>Latitude</th>\n",
       "      <th>Longitude</th>\n",
       "      <th>MedHouseVal</th>\n",
       "    </tr>\n",
       "  </thead>\n",
       "  <tbody>\n",
       "    <tr>\n",
       "      <th>0</th>\n",
       "      <td>0</td>\n",
       "      <td>2.3859</td>\n",
       "      <td>15.0</td>\n",
       "      <td>3.827160</td>\n",
       "      <td>1.112100</td>\n",
       "      <td>1280.0</td>\n",
       "      <td>2.486989</td>\n",
       "      <td>34.60</td>\n",
       "      <td>-120.12</td>\n",
       "      <td>0.980</td>\n",
       "    </tr>\n",
       "    <tr>\n",
       "      <th>1</th>\n",
       "      <td>1</td>\n",
       "      <td>3.7188</td>\n",
       "      <td>17.0</td>\n",
       "      <td>6.013373</td>\n",
       "      <td>1.054217</td>\n",
       "      <td>1504.0</td>\n",
       "      <td>3.813084</td>\n",
       "      <td>38.69</td>\n",
       "      <td>-121.22</td>\n",
       "      <td>0.946</td>\n",
       "    </tr>\n",
       "    <tr>\n",
       "      <th>2</th>\n",
       "      <td>2</td>\n",
       "      <td>4.7750</td>\n",
       "      <td>27.0</td>\n",
       "      <td>6.535604</td>\n",
       "      <td>1.103175</td>\n",
       "      <td>1061.0</td>\n",
       "      <td>2.464602</td>\n",
       "      <td>34.71</td>\n",
       "      <td>-120.45</td>\n",
       "      <td>1.576</td>\n",
       "    </tr>\n",
       "    <tr>\n",
       "      <th>3</th>\n",
       "      <td>3</td>\n",
       "      <td>2.4138</td>\n",
       "      <td>16.0</td>\n",
       "      <td>3.350203</td>\n",
       "      <td>0.965432</td>\n",
       "      <td>1255.0</td>\n",
       "      <td>2.089286</td>\n",
       "      <td>32.66</td>\n",
       "      <td>-117.09</td>\n",
       "      <td>1.336</td>\n",
       "    </tr>\n",
       "    <tr>\n",
       "      <th>4</th>\n",
       "      <td>4</td>\n",
       "      <td>3.7500</td>\n",
       "      <td>52.0</td>\n",
       "      <td>4.284404</td>\n",
       "      <td>1.069246</td>\n",
       "      <td>1793.0</td>\n",
       "      <td>1.604790</td>\n",
       "      <td>37.80</td>\n",
       "      <td>-122.41</td>\n",
       "      <td>4.500</td>\n",
       "    </tr>\n",
       "    <tr>\n",
       "      <th>...</th>\n",
       "      <td>...</td>\n",
       "      <td>...</td>\n",
       "      <td>...</td>\n",
       "      <td>...</td>\n",
       "      <td>...</td>\n",
       "      <td>...</td>\n",
       "      <td>...</td>\n",
       "      <td>...</td>\n",
       "      <td>...</td>\n",
       "      <td>...</td>\n",
       "    </tr>\n",
       "    <tr>\n",
       "      <th>37132</th>\n",
       "      <td>37132</td>\n",
       "      <td>3.3438</td>\n",
       "      <td>50.0</td>\n",
       "      <td>4.936508</td>\n",
       "      <td>1.079365</td>\n",
       "      <td>1775.0</td>\n",
       "      <td>3.022222</td>\n",
       "      <td>34.19</td>\n",
       "      <td>-118.36</td>\n",
       "      <td>1.856</td>\n",
       "    </tr>\n",
       "    <tr>\n",
       "      <th>37133</th>\n",
       "      <td>37133</td>\n",
       "      <td>3.7308</td>\n",
       "      <td>26.0</td>\n",
       "      <td>5.087533</td>\n",
       "      <td>0.966019</td>\n",
       "      <td>1006.0</td>\n",
       "      <td>4.316901</td>\n",
       "      <td>37.32</td>\n",
       "      <td>-121.86</td>\n",
       "      <td>1.588</td>\n",
       "    </tr>\n",
       "    <tr>\n",
       "      <th>37134</th>\n",
       "      <td>37134</td>\n",
       "      <td>4.1716</td>\n",
       "      <td>52.0</td>\n",
       "      <td>4.678862</td>\n",
       "      <td>1.101485</td>\n",
       "      <td>1156.0</td>\n",
       "      <td>1.431734</td>\n",
       "      <td>37.75</td>\n",
       "      <td>-122.44</td>\n",
       "      <td>3.387</td>\n",
       "    </tr>\n",
       "    <tr>\n",
       "      <th>37135</th>\n",
       "      <td>37135</td>\n",
       "      <td>2.7143</td>\n",
       "      <td>16.0</td>\n",
       "      <td>5.710074</td>\n",
       "      <td>1.068376</td>\n",
       "      <td>584.0</td>\n",
       "      <td>2.803659</td>\n",
       "      <td>38.40</td>\n",
       "      <td>-120.98</td>\n",
       "      <td>1.592</td>\n",
       "    </tr>\n",
       "    <tr>\n",
       "      <th>37136</th>\n",
       "      <td>37136</td>\n",
       "      <td>2.2419</td>\n",
       "      <td>34.0</td>\n",
       "      <td>5.424419</td>\n",
       "      <td>1.058685</td>\n",
       "      <td>1340.0</td>\n",
       "      <td>3.799065</td>\n",
       "      <td>36.34</td>\n",
       "      <td>-119.64</td>\n",
       "      <td>0.652</td>\n",
       "    </tr>\n",
       "  </tbody>\n",
       "</table>\n",
       "<p>37137 rows × 10 columns</p>\n",
       "</div>"
      ],
      "text/plain": [
       "          id  MedInc  HouseAge  AveRooms  AveBedrms  Population  AveOccup  \\\n",
       "0          0  2.3859      15.0  3.827160   1.112100      1280.0  2.486989   \n",
       "1          1  3.7188      17.0  6.013373   1.054217      1504.0  3.813084   \n",
       "2          2  4.7750      27.0  6.535604   1.103175      1061.0  2.464602   \n",
       "3          3  2.4138      16.0  3.350203   0.965432      1255.0  2.089286   \n",
       "4          4  3.7500      52.0  4.284404   1.069246      1793.0  1.604790   \n",
       "...      ...     ...       ...       ...        ...         ...       ...   \n",
       "37132  37132  3.3438      50.0  4.936508   1.079365      1775.0  3.022222   \n",
       "37133  37133  3.7308      26.0  5.087533   0.966019      1006.0  4.316901   \n",
       "37134  37134  4.1716      52.0  4.678862   1.101485      1156.0  1.431734   \n",
       "37135  37135  2.7143      16.0  5.710074   1.068376       584.0  2.803659   \n",
       "37136  37136  2.2419      34.0  5.424419   1.058685      1340.0  3.799065   \n",
       "\n",
       "       Latitude  Longitude  MedHouseVal  \n",
       "0         34.60    -120.12        0.980  \n",
       "1         38.69    -121.22        0.946  \n",
       "2         34.71    -120.45        1.576  \n",
       "3         32.66    -117.09        1.336  \n",
       "4         37.80    -122.41        4.500  \n",
       "...         ...        ...          ...  \n",
       "37132     34.19    -118.36        1.856  \n",
       "37133     37.32    -121.86        1.588  \n",
       "37134     37.75    -122.44        3.387  \n",
       "37135     38.40    -120.98        1.592  \n",
       "37136     36.34    -119.64        0.652  \n",
       "\n",
       "[37137 rows x 10 columns]"
      ]
     },
     "execution_count": 156,
     "metadata": {},
     "output_type": "execute_result"
    }
   ],
   "source": [
    "df_full"
   ]
  },
  {
   "cell_type": "code",
   "execution_count": 157,
   "metadata": {},
   "outputs": [],
   "source": [
    "df_full.columns = df_full.columns.str.lower().str.replace(' ', '_')\n",
    "\n",
    "string_columns = list(df_full.dtypes[df_full.dtypes == 'object'].index)\n",
    "\n",
    "for col in string_columns:\n",
    "    df_full[col] = df_full[col].str.lower().str.replace(' ', '_')"
   ]
  },
  {
   "cell_type": "code",
   "execution_count": 158,
   "metadata": {},
   "outputs": [
    {
     "data": {
      "text/html": [
       "<div>\n",
       "<style scoped>\n",
       "    .dataframe tbody tr th:only-of-type {\n",
       "        vertical-align: middle;\n",
       "    }\n",
       "\n",
       "    .dataframe tbody tr th {\n",
       "        vertical-align: top;\n",
       "    }\n",
       "\n",
       "    .dataframe thead th {\n",
       "        text-align: right;\n",
       "    }\n",
       "</style>\n",
       "<table border=\"1\" class=\"dataframe\">\n",
       "  <thead>\n",
       "    <tr style=\"text-align: right;\">\n",
       "      <th></th>\n",
       "      <th>id</th>\n",
       "      <th>medinc</th>\n",
       "      <th>houseage</th>\n",
       "      <th>averooms</th>\n",
       "      <th>avebedrms</th>\n",
       "      <th>population</th>\n",
       "      <th>aveoccup</th>\n",
       "      <th>latitude</th>\n",
       "      <th>longitude</th>\n",
       "      <th>medhouseval</th>\n",
       "    </tr>\n",
       "  </thead>\n",
       "  <tbody>\n",
       "    <tr>\n",
       "      <th>0</th>\n",
       "      <td>0</td>\n",
       "      <td>2.3859</td>\n",
       "      <td>15.0</td>\n",
       "      <td>3.827160</td>\n",
       "      <td>1.112100</td>\n",
       "      <td>1280.0</td>\n",
       "      <td>2.486989</td>\n",
       "      <td>34.60</td>\n",
       "      <td>-120.12</td>\n",
       "      <td>0.980</td>\n",
       "    </tr>\n",
       "    <tr>\n",
       "      <th>1</th>\n",
       "      <td>1</td>\n",
       "      <td>3.7188</td>\n",
       "      <td>17.0</td>\n",
       "      <td>6.013373</td>\n",
       "      <td>1.054217</td>\n",
       "      <td>1504.0</td>\n",
       "      <td>3.813084</td>\n",
       "      <td>38.69</td>\n",
       "      <td>-121.22</td>\n",
       "      <td>0.946</td>\n",
       "    </tr>\n",
       "    <tr>\n",
       "      <th>2</th>\n",
       "      <td>2</td>\n",
       "      <td>4.7750</td>\n",
       "      <td>27.0</td>\n",
       "      <td>6.535604</td>\n",
       "      <td>1.103175</td>\n",
       "      <td>1061.0</td>\n",
       "      <td>2.464602</td>\n",
       "      <td>34.71</td>\n",
       "      <td>-120.45</td>\n",
       "      <td>1.576</td>\n",
       "    </tr>\n",
       "    <tr>\n",
       "      <th>3</th>\n",
       "      <td>3</td>\n",
       "      <td>2.4138</td>\n",
       "      <td>16.0</td>\n",
       "      <td>3.350203</td>\n",
       "      <td>0.965432</td>\n",
       "      <td>1255.0</td>\n",
       "      <td>2.089286</td>\n",
       "      <td>32.66</td>\n",
       "      <td>-117.09</td>\n",
       "      <td>1.336</td>\n",
       "    </tr>\n",
       "    <tr>\n",
       "      <th>4</th>\n",
       "      <td>4</td>\n",
       "      <td>3.7500</td>\n",
       "      <td>52.0</td>\n",
       "      <td>4.284404</td>\n",
       "      <td>1.069246</td>\n",
       "      <td>1793.0</td>\n",
       "      <td>1.604790</td>\n",
       "      <td>37.80</td>\n",
       "      <td>-122.41</td>\n",
       "      <td>4.500</td>\n",
       "    </tr>\n",
       "    <tr>\n",
       "      <th>...</th>\n",
       "      <td>...</td>\n",
       "      <td>...</td>\n",
       "      <td>...</td>\n",
       "      <td>...</td>\n",
       "      <td>...</td>\n",
       "      <td>...</td>\n",
       "      <td>...</td>\n",
       "      <td>...</td>\n",
       "      <td>...</td>\n",
       "      <td>...</td>\n",
       "    </tr>\n",
       "    <tr>\n",
       "      <th>37132</th>\n",
       "      <td>37132</td>\n",
       "      <td>3.3438</td>\n",
       "      <td>50.0</td>\n",
       "      <td>4.936508</td>\n",
       "      <td>1.079365</td>\n",
       "      <td>1775.0</td>\n",
       "      <td>3.022222</td>\n",
       "      <td>34.19</td>\n",
       "      <td>-118.36</td>\n",
       "      <td>1.856</td>\n",
       "    </tr>\n",
       "    <tr>\n",
       "      <th>37133</th>\n",
       "      <td>37133</td>\n",
       "      <td>3.7308</td>\n",
       "      <td>26.0</td>\n",
       "      <td>5.087533</td>\n",
       "      <td>0.966019</td>\n",
       "      <td>1006.0</td>\n",
       "      <td>4.316901</td>\n",
       "      <td>37.32</td>\n",
       "      <td>-121.86</td>\n",
       "      <td>1.588</td>\n",
       "    </tr>\n",
       "    <tr>\n",
       "      <th>37134</th>\n",
       "      <td>37134</td>\n",
       "      <td>4.1716</td>\n",
       "      <td>52.0</td>\n",
       "      <td>4.678862</td>\n",
       "      <td>1.101485</td>\n",
       "      <td>1156.0</td>\n",
       "      <td>1.431734</td>\n",
       "      <td>37.75</td>\n",
       "      <td>-122.44</td>\n",
       "      <td>3.387</td>\n",
       "    </tr>\n",
       "    <tr>\n",
       "      <th>37135</th>\n",
       "      <td>37135</td>\n",
       "      <td>2.7143</td>\n",
       "      <td>16.0</td>\n",
       "      <td>5.710074</td>\n",
       "      <td>1.068376</td>\n",
       "      <td>584.0</td>\n",
       "      <td>2.803659</td>\n",
       "      <td>38.40</td>\n",
       "      <td>-120.98</td>\n",
       "      <td>1.592</td>\n",
       "    </tr>\n",
       "    <tr>\n",
       "      <th>37136</th>\n",
       "      <td>37136</td>\n",
       "      <td>2.2419</td>\n",
       "      <td>34.0</td>\n",
       "      <td>5.424419</td>\n",
       "      <td>1.058685</td>\n",
       "      <td>1340.0</td>\n",
       "      <td>3.799065</td>\n",
       "      <td>36.34</td>\n",
       "      <td>-119.64</td>\n",
       "      <td>0.652</td>\n",
       "    </tr>\n",
       "  </tbody>\n",
       "</table>\n",
       "<p>37137 rows × 10 columns</p>\n",
       "</div>"
      ],
      "text/plain": [
       "          id  medinc  houseage  averooms  avebedrms  population  aveoccup  \\\n",
       "0          0  2.3859      15.0  3.827160   1.112100      1280.0  2.486989   \n",
       "1          1  3.7188      17.0  6.013373   1.054217      1504.0  3.813084   \n",
       "2          2  4.7750      27.0  6.535604   1.103175      1061.0  2.464602   \n",
       "3          3  2.4138      16.0  3.350203   0.965432      1255.0  2.089286   \n",
       "4          4  3.7500      52.0  4.284404   1.069246      1793.0  1.604790   \n",
       "...      ...     ...       ...       ...        ...         ...       ...   \n",
       "37132  37132  3.3438      50.0  4.936508   1.079365      1775.0  3.022222   \n",
       "37133  37133  3.7308      26.0  5.087533   0.966019      1006.0  4.316901   \n",
       "37134  37134  4.1716      52.0  4.678862   1.101485      1156.0  1.431734   \n",
       "37135  37135  2.7143      16.0  5.710074   1.068376       584.0  2.803659   \n",
       "37136  37136  2.2419      34.0  5.424419   1.058685      1340.0  3.799065   \n",
       "\n",
       "       latitude  longitude  medhouseval  \n",
       "0         34.60    -120.12        0.980  \n",
       "1         38.69    -121.22        0.946  \n",
       "2         34.71    -120.45        1.576  \n",
       "3         32.66    -117.09        1.336  \n",
       "4         37.80    -122.41        4.500  \n",
       "...         ...        ...          ...  \n",
       "37132     34.19    -118.36        1.856  \n",
       "37133     37.32    -121.86        1.588  \n",
       "37134     37.75    -122.44        3.387  \n",
       "37135     38.40    -120.98        1.592  \n",
       "37136     36.34    -119.64        0.652  \n",
       "\n",
       "[37137 rows x 10 columns]"
      ]
     },
     "execution_count": 158,
     "metadata": {},
     "output_type": "execute_result"
    }
   ],
   "source": [
    "df_full"
   ]
  },
  {
   "cell_type": "code",
   "execution_count": 159,
   "metadata": {},
   "outputs": [
    {
     "data": {
      "image/png": "[encoded data removed]",
      "text/plain": [
       "<Figure size 600x400 with 1 Axes>"
      ]
     },
     "metadata": {},
     "output_type": "display_data"
    }
   ],
   "source": [
    "plt.figure(figsize=(6, 4))\n",
    "\n",
    "sns.histplot(df_full.medhouseval, bins=40, color='black', alpha=1)\n",
    "plt.ylabel('Frequency')\n",
    "plt.xlabel('Price')\n",
    "plt.title('Distribution of prices')\n",
    "\n",
    "plt.show()"
   ]
  },
  {
   "cell_type": "code",
   "execution_count": 160,
   "metadata": {},
   "outputs": [
    {
     "data": {
      "text/plain": [
       "id             0\n",
       "medinc         0\n",
       "houseage       0\n",
       "averooms       0\n",
       "avebedrms      0\n",
       "population     0\n",
       "aveoccup       0\n",
       "latitude       0\n",
       "longitude      0\n",
       "medhouseval    0\n",
       "dtype: int64"
      ]
     },
     "execution_count": 160,
     "metadata": {},
     "output_type": "execute_result"
    }
   ],
   "source": [
    "df_full.isnull().sum()"
   ]
  },
  {
   "cell_type": "code",
   "execution_count": 161,
   "metadata": {},
   "outputs": [],
   "source": [
    "from sklearn.model_selection import train_test_split"
   ]
  },
  {
   "cell_type": "code",
   "execution_count": 162,
   "metadata": {},
   "outputs": [],
   "source": [
    "df_train, df_val = train_test_split(df_full, test_size=0.33, random_state=11)"
   ]
  },
  {
   "cell_type": "code",
   "execution_count": 163,
   "metadata": {},
   "outputs": [
    {
     "data": {
      "text/plain": [
       "(24881, 12256)"
      ]
     },
     "execution_count": 163,
     "metadata": {},
     "output_type": "execute_result"
    }
   ],
   "source": [
    "len(df_train),len(df_val)"
   ]
  },
  {
   "cell_type": "code",
   "execution_count": 164,
   "metadata": {},
   "outputs": [],
   "source": [
    "y_train_orig = df_train.medhouseval.values\n",
    "y_val_orig = df_val.medhouseval.values\n",
    "y_full_orig=df_full.medhouseval.values\n",
    "\n"
   ]
  },
  {
   "cell_type": "code",
   "execution_count": 165,
   "metadata": {},
   "outputs": [],
   "source": [
    "y_train = np.log1p(df_train.medhouseval.values)\n",
    "y_val = np.log1p(df_val.medhouseval.values)\n",
    "y_full=np.log1p(df_full.medhouseval.values)\n",
    "\n",
    "del df_full['medhouseval']\n",
    "del df_train['medhouseval']\n",
    "del df_val['medhouseval']\n"
   ]
  },
  {
   "cell_type": "code",
   "execution_count": 166,
   "metadata": {},
   "outputs": [],
   "source": [
    "def train_linear_regression(X, y):\n",
    "    ones = np.ones(X.shape[0])\n",
    "    X = np.column_stack([ones, X])\n",
    "\n",
    "    XTX = X.T.dot(X)\n",
    "    XTX_inv = np.linalg.inv(XTX)\n",
    "    w = XTX_inv.dot(X.T).dot(y)\n",
    "    \n",
    "    return w[0], w[1:]"
   ]
  },
  {
   "cell_type": "code",
   "execution_count": 167,
   "metadata": {},
   "outputs": [],
   "source": [
    "base = ['medinc', 'houseage', 'averooms', 'avebedrms', 'population','aveoccup','latitude', 'longitude']"
   ]
  },
  {
   "cell_type": "code",
   "execution_count": 168,
   "metadata": {},
   "outputs": [
    {
     "data": {
      "text/plain": [
       "Index(['id', 'medinc', 'houseage', 'averooms', 'avebedrms', 'population',\n",
       "       'aveoccup', 'latitude', 'longitude'],\n",
       "      dtype='object')"
      ]
     },
     "execution_count": 168,
     "metadata": {},
     "output_type": "execute_result"
    }
   ],
   "source": [
    "df_full.columns"
   ]
  },
  {
   "cell_type": "code",
   "execution_count": 169,
   "metadata": {},
   "outputs": [],
   "source": [
    "def prepare_X(df):\n",
    "    df_num = df[base]\n",
    "    df_num = df_num.fillna(0)\n",
    "    X = df_num.values\n",
    "    return X"
   ]
  },
  {
   "cell_type": "code",
   "execution_count": 170,
   "metadata": {},
   "outputs": [],
   "source": [
    "X_train = prepare_X(df_train)\n",
    "w_0, w = train_linear_regression(X_train, y_train)"
   ]
  },
  {
   "cell_type": "code",
   "execution_count": 171,
   "metadata": {},
   "outputs": [],
   "source": [
    "y_pred = w_0 + X_train.dot(w)"
   ]
  },
  {
   "cell_type": "code",
   "execution_count": 172,
   "metadata": {},
   "outputs": [
    {
     "data": {
      "image/png": "[encoded data removed]",
      "text/plain": [
       "<Figure size 600x400 with 1 Axes>"
      ]
     },
     "metadata": {},
     "output_type": "display_data"
    }
   ],
   "source": [
    "plt.figure(figsize=(6, 4))\n",
    "\n",
    "sns.histplot(y_train, label='target', color='#222222', alpha=0.6, bins=40)\n",
    "sns.histplot(y_pred, label='prediction', color='#aaaaaa', alpha=0.8, bins=40)\n",
    "\n",
    "plt.legend()\n",
    "\n",
    "plt.ylabel('Frequency')\n",
    "plt.xlabel('Log(Price + 1)')\n",
    "plt.title('Predictions vs actual distribution')\n",
    "\n",
    "plt.show()"
   ]
  },
  {
   "cell_type": "code",
   "execution_count": 173,
   "metadata": {},
   "outputs": [],
   "source": [
    "def rmse(y, y_pred):\n",
    "    error = y_pred - y\n",
    "    mse = (error ** 2).mean()\n",
    "    return np.sqrt(mse)"
   ]
  },
  {
   "cell_type": "code",
   "execution_count": 174,
   "metadata": {},
   "outputs": [
    {
     "data": {
      "text/plain": [
       "0.21992437726973127"
      ]
     },
     "execution_count": 174,
     "metadata": {},
     "output_type": "execute_result"
    }
   ],
   "source": [
    "rmse(y_train, y_pred)"
   ]
  },
  {
   "cell_type": "code",
   "execution_count": 175,
   "metadata": {},
   "outputs": [
    {
     "data": {
      "text/plain": [
       "0.21817794140787505"
      ]
     },
     "execution_count": 175,
     "metadata": {},
     "output_type": "execute_result"
    }
   ],
   "source": [
    "X_val = prepare_X(df_val)\n",
    "y_pred = w_0 + X_val.dot(w)\n",
    "rmse(y_val,y_pred)"
   ]
  },
  {
   "cell_type": "code",
   "execution_count": 176,
   "metadata": {},
   "outputs": [],
   "source": [
    "def train_linear_regression_reg(X, y, r=0.0):\n",
    "    ones = np.ones(X.shape[0])\n",
    "    X = np.column_stack([ones, X])\n",
    "\n",
    "    XTX = X.T.dot(X)\n",
    "    reg = r * np.eye(XTX.shape[0])\n",
    "    XTX = XTX + reg\n",
    "\n",
    "    XTX_inv = np.linalg.inv(XTX)\n",
    "    w = XTX_inv.dot(X.T).dot(y)\n",
    "    \n",
    "    return w[0], w[1:]"
   ]
  },
  {
   "cell_type": "code",
   "execution_count": 177,
   "metadata": {},
   "outputs": [
    {
     "name": "stdout",
     "output_type": "stream",
     "text": [
      "train 0.21992574334123327\n",
      "val 0.21814991223388425\n"
     ]
    }
   ],
   "source": [
    "X_train = prepare_X(df_train)\n",
    "w_0, w = train_linear_regression_reg(X_train, y_train, r=0.01)\n",
    "\n",
    "y_pred = w_0 + X_train.dot(w)\n",
    "print('train', rmse(y_train, y_pred))\n",
    "\n",
    "X_val = prepare_X(df_val)\n",
    "y_pred = w_0 + X_val.dot(w)\n",
    "print('val', rmse(y_val, y_pred))"
   ]
  },
  {
   "cell_type": "code",
   "execution_count": 178,
   "metadata": {},
   "outputs": [
    {
     "name": "stdout",
     "output_type": "stream",
     "text": [
      " 1e-06 0.21817793843913727\n",
      "0.0001 0.21817764470500547\n",
      " 0.001 0.2181749895041782\n",
      "  0.01 0.21814991223388425\n",
      "   0.1 0.21802637752950826\n",
      "     1 0.2208188358941497\n",
      "     5 0.22851465986381722\n",
      "    10 0.23110551049403633\n"
     ]
    }
   ],
   "source": [
    "X_train = prepare_X(df_train)\n",
    "X_val = prepare_X(df_val)\n",
    "\n",
    "for r in [0.000001, 0.0001, 0.001, 0.01, 0.1, 1, 5, 10]:\n",
    "    w_0, w = train_linear_regression_reg(X_train, y_train, r=r)\n",
    "    y_pred = w_0 + X_val.dot(w)\n",
    "    print('%6s' %r, rmse(y_val, y_pred))"
   ]
  },
  {
   "cell_type": "code",
   "execution_count": 181,
   "metadata": {},
   "outputs": [
    {
     "name": "stdout",
     "output_type": "stream",
     "text": [
      "train 0.21925528904918837\n"
     ]
    }
   ],
   "source": [
    "X_full = prepare_X(df_full)\n",
    "w_0, w = train_linear_regression_reg(X_full, y_full, r=0.01)\n",
    "\n",
    "y_pred = w_0 + X_full.dot(w)\n",
    "print('train', rmse(y_full, y_pred))"
   ]
  },
  {
   "cell_type": "code",
   "execution_count": 190,
   "metadata": {},
   "outputs": [
    {
     "data": {
      "text/plain": [
       "Index(['id', 'medinc', 'houseage', 'averooms', 'avebedrms', 'population',\n",
       "       'aveoccup', 'latitude', 'longitude'],\n",
       "      dtype='object')"
      ]
     },
     "execution_count": 190,
     "metadata": {},
     "output_type": "execute_result"
    }
   ],
   "source": [
    "base\n",
    "df_test.columns\n",
    "df_train.columns"
   ]
  },
  {
   "cell_type": "code",
   "execution_count": 191,
   "metadata": {},
   "outputs": [],
   "source": [
    "df_test.columns = df_test.columns.str.lower()\n",
    "X_test = prepare_X(df_test)\n",
    "y_test_pred = w_0 + X_test.dot(w)\n",
    "results = df_test[['id']].copy()\n",
    "results['medhouseval'] = np.expm1(y_test_pred)\n",
    "results.to_csv('test_predictions.csv', index=False)"
   ]
  },
  {
   "cell_type": "code",
   "execution_count": 188,
   "metadata": {},
   "outputs": [
    {
     "data": {
      "text/html": [
       "<div>\n",
       "<style scoped>\n",
       "    .dataframe tbody tr th:only-of-type {\n",
       "        vertical-align: middle;\n",
       "    }\n",
       "\n",
       "    .dataframe tbody tr th {\n",
       "        vertical-align: top;\n",
       "    }\n",
       "\n",
       "    .dataframe thead th {\n",
       "        text-align: right;\n",
       "    }\n",
       "</style>\n",
       "<table border=\"1\" class=\"dataframe\">\n",
       "  <thead>\n",
       "    <tr style=\"text-align: right;\">\n",
       "      <th></th>\n",
       "      <th>id</th>\n",
       "      <th>medinc</th>\n",
       "      <th>houseage</th>\n",
       "      <th>averooms</th>\n",
       "      <th>avebedrms</th>\n",
       "      <th>population</th>\n",
       "      <th>aveoccup</th>\n",
       "      <th>latitude</th>\n",
       "      <th>longitude</th>\n",
       "    </tr>\n",
       "  </thead>\n",
       "  <tbody>\n",
       "    <tr>\n",
       "      <th>0</th>\n",
       "      <td>37137</td>\n",
       "      <td>1.7062</td>\n",
       "      <td>35.0</td>\n",
       "      <td>4.966368</td>\n",
       "      <td>1.096539</td>\n",
       "      <td>1318.0</td>\n",
       "      <td>2.844411</td>\n",
       "      <td>39.75</td>\n",
       "      <td>-121.85</td>\n",
       "    </tr>\n",
       "    <tr>\n",
       "      <th>1</th>\n",
       "      <td>37138</td>\n",
       "      <td>1.3882</td>\n",
       "      <td>22.0</td>\n",
       "      <td>4.187035</td>\n",
       "      <td>1.098229</td>\n",
       "      <td>2296.0</td>\n",
       "      <td>3.180218</td>\n",
       "      <td>33.95</td>\n",
       "      <td>-118.29</td>\n",
       "    </tr>\n",
       "    <tr>\n",
       "      <th>2</th>\n",
       "      <td>37139</td>\n",
       "      <td>7.7197</td>\n",
       "      <td>21.0</td>\n",
       "      <td>7.129436</td>\n",
       "      <td>0.959276</td>\n",
       "      <td>1535.0</td>\n",
       "      <td>2.888889</td>\n",
       "      <td>33.61</td>\n",
       "      <td>-117.81</td>\n",
       "    </tr>\n",
       "    <tr>\n",
       "      <th>3</th>\n",
       "      <td>37140</td>\n",
       "      <td>4.6806</td>\n",
       "      <td>49.0</td>\n",
       "      <td>4.769697</td>\n",
       "      <td>1.048485</td>\n",
       "      <td>707.0</td>\n",
       "      <td>1.743590</td>\n",
       "      <td>34.17</td>\n",
       "      <td>-118.34</td>\n",
       "    </tr>\n",
       "    <tr>\n",
       "      <th>4</th>\n",
       "      <td>37141</td>\n",
       "      <td>3.1284</td>\n",
       "      <td>25.0</td>\n",
       "      <td>3.765306</td>\n",
       "      <td>1.081633</td>\n",
       "      <td>4716.0</td>\n",
       "      <td>2.003827</td>\n",
       "      <td>34.17</td>\n",
       "      <td>-118.29</td>\n",
       "    </tr>\n",
       "    <tr>\n",
       "      <th>...</th>\n",
       "      <td>...</td>\n",
       "      <td>...</td>\n",
       "      <td>...</td>\n",
       "      <td>...</td>\n",
       "      <td>...</td>\n",
       "      <td>...</td>\n",
       "      <td>...</td>\n",
       "      <td>...</td>\n",
       "      <td>...</td>\n",
       "    </tr>\n",
       "    <tr>\n",
       "      <th>24754</th>\n",
       "      <td>61891</td>\n",
       "      <td>2.2875</td>\n",
       "      <td>34.0</td>\n",
       "      <td>3.914729</td>\n",
       "      <td>1.085271</td>\n",
       "      <td>866.0</td>\n",
       "      <td>2.071429</td>\n",
       "      <td>34.44</td>\n",
       "      <td>-119.75</td>\n",
       "    </tr>\n",
       "    <tr>\n",
       "      <th>24755</th>\n",
       "      <td>61892</td>\n",
       "      <td>3.0781</td>\n",
       "      <td>33.0</td>\n",
       "      <td>4.771971</td>\n",
       "      <td>1.038674</td>\n",
       "      <td>1628.0</td>\n",
       "      <td>2.326848</td>\n",
       "      <td>34.09</td>\n",
       "      <td>-117.96</td>\n",
       "    </tr>\n",
       "    <tr>\n",
       "      <th>24756</th>\n",
       "      <td>61893</td>\n",
       "      <td>2.6961</td>\n",
       "      <td>14.0</td>\n",
       "      <td>4.593960</td>\n",
       "      <td>1.170380</td>\n",
       "      <td>3900.0</td>\n",
       "      <td>2.540034</td>\n",
       "      <td>37.51</td>\n",
       "      <td>-120.83</td>\n",
       "    </tr>\n",
       "    <tr>\n",
       "      <th>24757</th>\n",
       "      <td>61894</td>\n",
       "      <td>7.2315</td>\n",
       "      <td>8.0</td>\n",
       "      <td>7.508403</td>\n",
       "      <td>1.018692</td>\n",
       "      <td>1388.0</td>\n",
       "      <td>2.601202</td>\n",
       "      <td>33.67</td>\n",
       "      <td>-117.98</td>\n",
       "    </tr>\n",
       "    <tr>\n",
       "      <th>24758</th>\n",
       "      <td>61895</td>\n",
       "      <td>5.7260</td>\n",
       "      <td>30.0</td>\n",
       "      <td>6.000000</td>\n",
       "      <td>1.000000</td>\n",
       "      <td>15.0</td>\n",
       "      <td>2.500000</td>\n",
       "      <td>37.96</td>\n",
       "      <td>-122.47</td>\n",
       "    </tr>\n",
       "  </tbody>\n",
       "</table>\n",
       "<p>24759 rows × 9 columns</p>\n",
       "</div>"
      ],
      "text/plain": [
       "          id  medinc  houseage  averooms  avebedrms  population  aveoccup  \\\n",
       "0      37137  1.7062      35.0  4.966368   1.096539      1318.0  2.844411   \n",
       "1      37138  1.3882      22.0  4.187035   1.098229      2296.0  3.180218   \n",
       "2      37139  7.7197      21.0  7.129436   0.959276      1535.0  2.888889   \n",
       "3      37140  4.6806      49.0  4.769697   1.048485       707.0  1.743590   \n",
       "4      37141  3.1284      25.0  3.765306   1.081633      4716.0  2.003827   \n",
       "...      ...     ...       ...       ...        ...         ...       ...   \n",
       "24754  61891  2.2875      34.0  3.914729   1.085271       866.0  2.071429   \n",
       "24755  61892  3.0781      33.0  4.771971   1.038674      1628.0  2.326848   \n",
       "24756  61893  2.6961      14.0  4.593960   1.170380      3900.0  2.540034   \n",
       "24757  61894  7.2315       8.0  7.508403   1.018692      1388.0  2.601202   \n",
       "24758  61895  5.7260      30.0  6.000000   1.000000        15.0  2.500000   \n",
       "\n",
       "       latitude  longitude  \n",
       "0         39.75    -121.85  \n",
       "1         33.95    -118.29  \n",
       "2         33.61    -117.81  \n",
       "3         34.17    -118.34  \n",
       "4         34.17    -118.29  \n",
       "...         ...        ...  \n",
       "24754     34.44    -119.75  \n",
       "24755     34.09    -117.96  \n",
       "24756     37.51    -120.83  \n",
       "24757     33.67    -117.98  \n",
       "24758     37.96    -122.47  \n",
       "\n",
       "[24759 rows x 9 columns]"
      ]
     },
     "execution_count": 188,
     "metadata": {},
     "output_type": "execute_result"
    }
   ],
   "source": [
    "df_test"
   ]
  }
 ],
 "metadata": {
  "kernelspec": {
   "display_name": "Python 3",
   "language": "python",
   "name": "python3"
  },
  "language_info": {
   "codemirror_mode": {
    "name": "ipython",
    "version": 3
   },
   "file_extension": ".py",
   "mimetype": "text/x-python",
   "name": "python",
   "nbconvert_exporter": "python",
   "pygments_lexer": "ipython3",
   "version": "3.11.4"
  }
 },
 "nbformat": 4,
 "nbformat_minor": 2
}
